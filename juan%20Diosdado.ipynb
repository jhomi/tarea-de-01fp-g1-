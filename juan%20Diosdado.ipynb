{
  "nbformat": 4,
  "nbformat_minor": 0,
  "metadata": {
    "colab": {
      "name": "Untitled0.ipynb",
      "provenance": [],
      "collapsed_sections": []
    },
    "kernelspec": {
      "name": "python3",
      "display_name": "Python 3"
    },
    "language_info": {
      "name": "python"
    }
  },
  "cells": [
    {
      "cell_type": "markdown",
      "source": [
        "1 Realice un diagrama de flujo y pseudocódigo que representen el algoritmo para obtener el área de un triángulo"
      ],
      "metadata": {
        "id": "vxkYHe0hpiYx"
      }
    },
    {
      "cell_type": "code",
      "source": [
        "##Definir variable   \n",
        "base:float\n",
        "altura:float\n",
        "area:float \n",
        "#Datos de entrada \n",
        "base=float(input(\"ingrese la base : \"))\n",
        "altura=float(input(\"ingrese la altura : \"))\n",
        "#proceso\n",
        "area=base * altura/2\n",
        "#datos de salida\n",
        "print(f\"El area  es : {area}\")\n"
      ],
      "metadata": {
        "colab": {
          "base_uri": "https://localhost:8080/"
        },
        "id": "0JiwxUH5pmGc",
        "outputId": "ef82b515-0dc5-4abb-d19b-8d857e09f005"
      },
      "execution_count": null,
      "outputs": [
        {
          "output_type": "stream",
          "name": "stdout",
          "text": [
            "ingrese la base : 4\n",
            "ingrese la altura : 10\n",
            "El area  es : 20.0\n"
          ]
        }
      ]
    },
    {
      "cell_type": "markdown",
      "source": [
        "2 Una empresa importadora desea determinar cuántos dólares puede adquirir con equis cantidad de dinero en soles realice un diagrama de flujo y pseudocódigo que represente un algoritmo para tal fin"
      ],
      "metadata": {
        "id": "kSbwiS1Sp3qB"
      }
    },
    {
      "cell_type": "code",
      "source": [
        "#definir variable \n",
        "soles:float\n",
        "dolares:float\n",
        "#datos de entrada \n",
        "soles=float(input(\"ingrese la cantidad de soles : \"))\n",
        "#proceso \n",
        "dolares=soles/3.77\n",
        "#datos de  salida \n",
        "print (f\"la cantidad  dolares son : {dolares}\")\n"
      ],
      "metadata": {
        "colab": {
          "base_uri": "https://localhost:8080/"
        },
        "id": "WKqz9cmLp4FL",
        "outputId": "0ad5bee9-6a53-490b-96d3-da0f49c5f7e8"
      },
      "execution_count": null,
      "outputs": [
        {
          "output_type": "stream",
          "name": "stdout",
          "text": [
            "ingrese la cantidad de soles : 20\n",
            "la cantidad  dolares son : 5.305039787798409\n"
          ]
        }
      ]
    },
    {
      "cell_type": "markdown",
      "source": [
        "3 Una empresa que contrata personal requiere determinar la edad de las personas que solicitan trabajo, pero cuando se les realiza la entrevista sólo se les pregunta el año en que nacieron.  Realice el diagrama de flujo y pseudocódigo que represente el algoritmo para solucionar este problema"
      ],
      "metadata": {
        "id": "L5kUIdnGs4s9"
      }
    },
    {
      "cell_type": "code",
      "source": [
        "#definir variable\n",
        "añoactual:float\n",
        "añonacer:float\n",
        "edad:float\n",
        "#datos de entrada \n",
        "añoactual=float(input(\"ingrese el añoactual : \"))\n",
        "añonacer=float(input(\"ingrese el año de nacimiento:\"))\n",
        "#proceso\n",
        "edad=añoactual- añonacer \n",
        "#datos de salida\n",
        "print(f\"tiene{edad}años\")"
      ],
      "metadata": {
        "colab": {
          "base_uri": "https://localhost:8080/"
        },
        "id": "dYlZkEAIs47H",
        "outputId": "51676faf-7541-42d4-ae40-09541be7e837"
      },
      "execution_count": null,
      "outputs": [
        {
          "output_type": "stream",
          "name": "stdout",
          "text": [
            "ingrese el añoactual : 2022\n",
            "ingrese el año de nacimiento:2003\n",
            "tiene19.0años\n"
          ]
        }
      ]
    },
    {
      "cell_type": "markdown",
      "source": [
        "4 Un estacionamiento requiere determinar el cobro que debe aplicar a las personas que lo utilizan. Considere que el cobro es con base en las horas que lo disponen y que las fracciones de hora se toman como completas y realice un diagrama de flujo y pseudocódigo que represente el algoritmo que permita determinar el cobro."
      ],
      "metadata": {
        "id": "oia4UNDGvroA"
      }
    },
    {
      "cell_type": "code",
      "source": [
        "#definir variable\n",
        "pxh:float\n",
        "hu:float\n",
        "total:float\n",
        "#datos  de entrada\n",
        "pxh=float(input(\"ingrese el cobro por hora: \"))\n",
        "hu=float(input(\"ingrese las horas estacionado: \"))\n",
        "#proceso\n",
        "total=pxh*hu\n",
        "#datos de salida \n",
        "print(f\"El cobro total es : {total} \")\n"
      ],
      "metadata": {
        "colab": {
          "base_uri": "https://localhost:8080/"
        },
        "id": "zlt-s6z6xFz2",
        "outputId": "5132ddc5-57e9-4bed-a0e0-189be855c628"
      },
      "execution_count": null,
      "outputs": [
        {
          "output_type": "stream",
          "name": "stdout",
          "text": [
            "ingrese el cobro por hora: 4\n",
            "ingrese las horas estacionado: 4\n",
            "El cobro total es : 16.0 \n"
          ]
        }
      ]
    },
    {
      "cell_type": "markdown",
      "source": [
        "5 Constructoras Juliaca requiere determinar cuánto cobrar por trabajos de pintura. Considere que se cobra por m2 y realice un diagrama de flujo y pseudocódigo que represente el algoritmo que le permita ir generando presupuestos para cada cliente"
      ],
      "metadata": {
        "id": "MWpD_csl1qn1"
      }
    },
    {
      "cell_type": "code",
      "source": [
        "#datos variables \n",
        "m2:float\n",
        "cobro:float\n",
        "cantidad:float\n",
        "total:float\n",
        "#datos de  entrada\n",
        "m2=float(input(\"ingrese los m2 :\"))\n",
        "cobro=float(input(\"ingrese el cobro por m2: \"))\n",
        "cantidad:float(input(\"ingrese la cantidad de pinturas: \"))\n"
      ],
      "metadata": {
        "colab": {
          "base_uri": "https://localhost:8080/"
        },
        "id": "RJLL0W291qyj",
        "outputId": "955fe74d-8ca9-49e9-8104-9885de6c7771"
      },
      "execution_count": null,
      "outputs": [
        {
          "name": "stdout",
          "output_type": "stream",
          "text": [
            "ingrese los m2 :4\n",
            "ingrese el cobro por m2: 25\n",
            "ingrese la cantidad de pinturas: 5\n"
          ]
        }
      ]
    },
    {
      "cell_type": "markdown",
      "source": [
        " 6 Se requiere determinar la hipotenusa de un triángulo rectángulo ¿cómo sería el diagrama de flujo y el pseudocódigo que represente el algoritmo para obtenerla? Recuerde que por Pitágoras c^ {2} =a^ {2} +b^ {2}"
      ],
      "metadata": {
        "id": "NU2_12orBDuo"
      }
    },
    {
      "cell_type": "code",
      "source": [
        "#referencia libreria \n",
        "import math \n",
        "#definir variables\n",
        "ladoA:float\n",
        "ladoB:float\n",
        "hipotenusa:float\n",
        "#datos de entrada\n",
        "ladoA=float(input(\"ingrese el lado A del triangulo :\"))\n",
        "ladoB=float(input(\"ingrese el lado B del triangulo :\"))\n",
        "#proceso\n",
        "hipotenusa=math.sqrt(math.pow(ladoA,2)+math.pow(ladoB,2))\n",
        "#Datos de salida \n",
        "print(f\"La hipotenusa del triangulo rectangulo es: {hipotenusa}\")\n"
      ],
      "metadata": {
        "id": "AxlLqvopBD3M",
        "colab": {
          "base_uri": "https://localhost:8080/"
        },
        "outputId": "cf44620d-066d-462d-8e19-4c17a4846fc7"
      },
      "execution_count": 37,
      "outputs": [
        {
          "output_type": "stream",
          "name": "stdout",
          "text": [
            "ingrese el lado A del triangulo :3\n",
            "ingrese el lado B del triangulo :4\n",
            "La hipotenusa del triangulo rectangulo es: 5.0\n"
          ]
        }
      ]
    },
    {
      "cell_type": "markdown",
      "source": [
        " 7 Una compañía de autobuses requiere determinar el costo que tendrá el boleto de un viaje, esto basado en los kilómetros por recorrer y el costo es por kilómetro. Realice un diagrama de flujo y pseudocódigo que representen el algoritmo para tal fin"
      ],
      "metadata": {
        "id": "Cvr7Y2dFolrT"
      }
    },
    {
      "cell_type": "code",
      "source": [
        "#definir varibles \n",
        "cstvoleto:float\n",
        "nkilometros:float=10\n",
        "#datos de entradas \n",
        "cstboleto=float(input(\"ingrese numero de kilometros:\"))\n",
        "#proceso\n",
        "nkilometros=cstboleto*nkilometros\n",
        "#datos de salida\n",
        "print(f\"el numero kilometros es:{nkilometros}\")\n",
        "\n",
        "\n"
      ],
      "metadata": {
        "colab": {
          "base_uri": "https://localhost:8080/"
        },
        "id": "bJrZIImaomAl",
        "outputId": "985648cb-f994-4d2e-fec1-b7d6563a1efe"
      },
      "execution_count": 53,
      "outputs": [
        {
          "output_type": "stream",
          "name": "stdout",
          "text": [
            "ingrese numero de kilometros:270\n",
            "el numero kilometros es:2700.0\n"
          ]
        }
      ]
    },
    {
      "cell_type": "markdown",
      "source": [
        " 8  \n",
        " Se requiere determinar el tiempo que tarda una persona en llegar de una ciudad a otra en bicicleta, considerando que lleva una velocidad constante. Realice un diagrama de flujo y pseudocódigo que represente el algoritmo para tal fin"
      ],
      "metadata": {
        "id": "YwRWjmR6vUB3"
      }
    },
    {
      "cell_type": "code",
      "source": [
        "#definir variable \n",
        "vinicial:float\n",
        "tiempo:float\n",
        "vfinal:float\n",
        "#datos de emtrada \n",
        "vinicial=float(input(\"ingrese el tiempo\"))\n",
        "vfinal=float(input(\"ingrese el velocidad\"))\n",
        "#proceso \n",
        "tiempo=vinicial/vfinal\n",
        "#datos de salida\n",
        "print(f\"el tiempo es:{tiempo}\")\n"
      ],
      "metadata": {
        "colab": {
          "base_uri": "https://localhost:8080/"
        },
        "id": "lloeDeuFvUYD",
        "outputId": "650a5e54-e3f1-4ed1-d11b-bd985388d829"
      },
      "execution_count": 60,
      "outputs": [
        {
          "output_type": "stream",
          "name": "stdout",
          "text": [
            "ingrese el tiempo8\n",
            "ingrese el velocidad2\n",
            "el tiempo es:4.0\n"
          ]
        }
      ]
    },
    {
      "cell_type": "markdown",
      "source": [
        "9 Se requiere determinar el costo que tendrá, el realizar una llamada telefónica con base en el tiempo que dura la llamada y el costo es por minuto. realice un diagrama de flujo y pseudocódigo que representen el algoritmo para tal fin"
      ],
      "metadata": {
        "id": "SZ5ZFnG_28-G"
      }
    },
    {
      "cell_type": "code",
      "source": [
        "#definir variables\n",
        "cstllamada:float\n",
        "tmpllamada:float\n",
        "cstminuto:float\n",
        "#datos de entrada \n",
        "tmpllamada=float(input(\"ingrese tiempo de  llamada\"))\n",
        "cstminuto=float(input(\"ingrese costo de tiempo\"))\n",
        "#proceso\n",
        "cstllamada=tmpllamada*cstminuto\n",
        "#datos de salida\n",
        "print(f\"el cstllamada es:{cstllamada}\")"
      ],
      "metadata": {
        "colab": {
          "base_uri": "https://localhost:8080/"
        },
        "id": "tOaYDJzG29Pb",
        "outputId": "cd84dcee-70e6-4442-d602-86b592394c08"
      },
      "execution_count": 82,
      "outputs": [
        {
          "output_type": "stream",
          "name": "stdout",
          "text": [
            "ingrese tiempo de  llamada2\n",
            "ingrese costo de tiempo10\n",
            "el cstllamada es:20.0\n"
          ]
        }
      ]
    },
    {
      "cell_type": "markdown",
      "source": [
        "10 \n",
        "Seda Juliaca requiere determinar el pago que debe realizar una persona por el total de metros cúbicos de consumo de agua. Realice un diagrama de flujo y pseudocódigo que represente el algoritmo que permita determinar ese pago"
      ],
      "metadata": {
        "id": "sP92uKM--_7C"
      }
    },
    {
      "cell_type": "code",
      "source": [
        "#definir variables\n",
        "pgtotal:float\n",
        "mtcdca:float\n",
        "cstagua:float=2.35\n",
        "#datos de entra \n",
        "mtcdca=float(input(\"ingrese metros cubicos de agua\" ))\n",
        "#proceso\n",
        "pgtotal=mtcdca*cstagua \n",
        "#datos de salida\n",
        "print(f\"el total es: {pgtotal} \")"
      ],
      "metadata": {
        "colab": {
          "base_uri": "https://localhost:8080/"
        },
        "id": "6KPMCoyb_AGf",
        "outputId": "609555bd-d443-4540-c753-3dff596d86c9"
      },
      "execution_count": 85,
      "outputs": [
        {
          "output_type": "stream",
          "name": "stdout",
          "text": [
            "ingrese metros cubicos de agua2\n",
            "el total es: 4.7 \n"
          ]
        }
      ]
    },
    {
      "cell_type": "code",
      "execution_count": null,
      "metadata": {
        "colab": {
          "base_uri": "https://localhost:8080/"
        },
        "id": "x7dbhw_kCY3Z",
        "outputId": "b0791a60-5acd-4742-ba04-fa013149d8e9"
      },
      "outputs": [
        {
          "output_type": "stream",
          "name": "stdout",
          "text": [
            "ingrese el precio base del articulo300\n",
            "El precio con descuento es:240.0\n",
            "el precio final es:[pf]\n"
          ]
        }
      ],
      "source": [
        "#definir variables \n",
        "descuento:float=0.20\n",
        "igv:float\n",
        "pbase:float\n",
        "pcd:float\n",
        "pf:float\n",
        "#datos de entrada\"\n",
        "pbase=float(input(\"ingrese el precio base del articulo\"))\n",
        "#proceso\n",
        "pcd=pbase-(pbase*descuento)\n",
        "igv=pcd*0.18\n",
        "pf=pcd+igv\n",
        "#datos de salida\n",
        "print(f\"El precio con descuento es:{pcd}\")\n",
        "print(f\"el precio final es:[pf]\")\n"
      ]
    },
    {
      "cell_type": "code",
      "source": [
        ""
      ],
      "metadata": {
        "id": "MAnd5uHE2kwP"
      },
      "execution_count": null,
      "outputs": []
    },
    {
      "cell_type": "code",
      "source": [
        "#definir variables\n",
        "intesidad:float\n",
        "resistencia:float=4\n",
        "potencia:float\n",
        "#datos de entrada\n",
        "intensidad=float(input(\"ingrese la intensidad\"))\n",
        "#proceso\n",
        "potencia=resistencia*(intensidad*intensidad)\n",
        "#datos de salida\n",
        "print(f\"la potencia es : {potencia}\")\n"
      ],
      "metadata": {
        "colab": {
          "base_uri": "https://localhost:8080/"
        },
        "id": "FMfNtjcLRfEP",
        "outputId": "ba492e23-11cf-42fc-c96f-35abf2d5dd2d"
      },
      "execution_count": null,
      "outputs": [
        {
          "output_type": "stream",
          "name": "stdout",
          "text": [
            "ingrese la intensidad15\n",
            "la potencia es : 900.0\n"
          ]
        }
      ]
    },
    {
      "cell_type": "code",
      "source": [
        "#datos variables \n",
        "soles :float\n",
        "dolares:float=3.77\n",
        "cantidad:float\n",
        "#datos de entrada\n",
        "soles=float(input(\"ingrese el sol\"))\n",
        "#proceso\n",
        "cantidad=soles/dolares\n",
        "#datos de salid\n",
        "print(f\"la cantidad es: {cantidad}\")\n",
        "\n"
      ],
      "metadata": {
        "colab": {
          "base_uri": "https://localhost:8080/"
        },
        "id": "cHc3MGGmV8V1",
        "outputId": "30d34a9c-879b-4ca0-ddfa-15dc2bb6f933"
      },
      "execution_count": null,
      "outputs": [
        {
          "output_type": "stream",
          "name": "stdout",
          "text": [
            "ingrese el sol20\n",
            "la cantidad es: 5.305039787798409\n"
          ]
        }
      ]
    },
    {
      "cell_type": "code",
      "source": [
        "#Definir variable   \n",
        "base:float\n",
        "altura:float\n",
        "area:float \n",
        "#Datos de entrada \n",
        "base=float(input(\"ingrese la base : \"))\n",
        "altura=float(input(\"ingrese la altura : \"))\n",
        "#proceso\n",
        "area=base * altura/2\n",
        "#datos de salida\n",
        "print(f\"El area  es : {area}\")\n"
      ],
      "metadata": {
        "colab": {
          "base_uri": "https://localhost:8080/"
        },
        "id": "YbLNLwoxdgvk",
        "outputId": "90d3af6c-7ab3-439f-f2e0-2ec2d1905279"
      },
      "execution_count": null,
      "outputs": [
        {
          "output_type": "stream",
          "name": "stdout",
          "text": [
            "ingrese la base : 10\n",
            "ingrese la altura : 15\n",
            "El area  es : 75.0\n"
          ]
        }
      ]
    },
    {
      "cell_type": "markdown",
      "source": [
        "2.3 Una empresa que contrata personal requiere determinar la edad de las personas que solicitan trabajo, pero cuando se les realiza la entrevista sólo se les pregunta el año en que nacieron.  Realice el diagrama de flujo y pseudocódigo que represente el algoritmo para solucionar este problema\n"
      ],
      "metadata": {
        "id": "cqh5hWRao8mW"
      }
    }
  ]
}